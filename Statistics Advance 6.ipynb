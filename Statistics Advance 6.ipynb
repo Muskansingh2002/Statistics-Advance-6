{
 "cells": [
  {
   "cell_type": "markdown",
   "id": "116163be-7252-496e-9231-eaaa05ca36d3",
   "metadata": {},
   "source": [
    "Q1. Explain the assumptions required to use ANOVA and provide examples of violations that could impact\n",
    "the validity of the results."
   ]
  },
  {
   "cell_type": "markdown",
   "id": "10085385-e426-4439-8421-70f6f02e64e4",
   "metadata": {},
   "source": [
    "Ans:\n",
    "\n",
    "ANOVA (Analysis of Variance) is a statistical method used to compare the means of three or more groups to determine if at least one group mean is significantly different from the others. However, the validity of ANOVA results depends on certain assumptions. Here are the primary assumptions required for using ANOVA, along with examples of violations that could impact the validity of the results:\n",
    "\n",
    "Assumptions of ANOVA\n",
    "Independence of Observations:\n",
    "\n",
    "Description: The observations within each group and between groups must be independent of each other.\n",
    "Violation Example: If measurements are taken from the same subjects under different conditions without proper randomization, the independence assumption is violated. For example, repeated measures on the same individuals without accounting for the repeated nature.\n",
    "Normality:\n",
    "\n",
    "Description: The data within each group should be approximately normally distributed.\n",
    "Violation Example: If the data is heavily skewed or has outliers, the normality assumption is violated. For example, income data in socio-economic studies often violates normality due to a few very high incomes.\n",
    "Homogeneity of Variances (Homoscedasticity):\n",
    "\n",
    "Description: The variances within each group should be approximately equal.\n",
    "Violation Example: If one group's variance is significantly larger or smaller than others, this assumption is violated. For instance, comparing test scores from different schools where one school has much more variability in student performance than the others.\n",
    "Impact of Violations\n",
    "Violation of Independence:\n",
    "\n",
    "Impact: The test may yield incorrect results due to correlated errors, leading to an increased risk of Type I or Type II errors. For example, ignoring the correlation in repeated measures data can underestimate the true variability, inflating the F-statistic.\n",
    "Violation of Normality:\n",
    "\n",
    "Impact: ANOVA is relatively robust to moderate violations of normality, especially with large sample sizes, due to the Central Limit Theorem. However, severe departures from normality can affect the validity of the F-test, increasing the likelihood of Type I or Type II errors. For example, with small sample sizes, non-normal data can lead to an inaccurate assessment of group differences.\n",
    "Violation of Homogeneity of Variances:\n",
    "\n",
    "Impact: If the assumption of homogeneity of variances is violated, the ANOVA F-test becomes more sensitive to differences in variances rather than differences in means. This can lead to an increased risk of Type I errors if variances are unequal. For example, when using ANOVA to compare groups with highly unequal variances, significant results might be driven by variance differences rather than mean differences."
   ]
  },
  {
   "cell_type": "code",
   "execution_count": null,
   "id": "e0e98d1c-f810-4fe1-b417-7e2ff581357e",
   "metadata": {},
   "outputs": [],
   "source": []
  },
  {
   "cell_type": "markdown",
   "id": "ec0d0fb4-e6ea-45c7-827b-7107b505d4a9",
   "metadata": {},
   "source": [
    "Q2. What are the three types of ANOVA, and in what situations would each be used?"
   ]
  },
  {
   "cell_type": "markdown",
   "id": "f31bb263-a888-47f4-87ab-967291c90244",
   "metadata": {},
   "source": [
    "Ans:\n",
    "    \n",
    "ANOVA (Analysis of Variance) comes in three main types, each suited for different experimental designs and research questions. These types are:\n",
    "\n",
    "One-Way ANOVA:\n",
    "\n",
    "Description: One-Way ANOVA is used to compare the means of three or more independent groups based on one factor or independent variable.\n",
    "\n",
    "Situations for Use:\n",
    "When you have a single categorical independent variable (factor) with three or more levels (groups) and one continuous dependent variable.\n",
    "\n",
    "Example: Comparing the average test scores of students from three different teaching methods.\n",
    "\n",
    "Two-Way ANOVA:\n",
    "\n",
    "Description: Two-Way ANOVA is used to examine the effect of two independent factors on a dependent variable and can also explore the interaction effect between the two factors.\n",
    "\n",
    "Situations for Use:\n",
    "When you have two categorical independent variables (factors), each with two or more levels, and one continuous dependent variable.\n",
    "\n",
    "Example: Studying the impact of both teaching method (three levels) and study environment (two levels) on student test scores. This setup allows for analyzing both the main effects of each factor and their interaction effect.\n",
    "\n",
    "Repeated Measures ANOVA:\n",
    "\n",
    "Description: Repeated Measures ANOVA is used when the same subjects are measured multiple times under different conditions or over time.\n",
    "\n",
    "Situations for Use:\n",
    "When you have a single group of subjects exposed to multiple conditions or measured at different time points.\n",
    "\n",
    "Example: Measuring the blood pressure of patients before, during, and after taking a medication."
   ]
  },
  {
   "cell_type": "code",
   "execution_count": null,
   "id": "a11f95f2-eb77-4481-bb88-5cb5ac83fd0a",
   "metadata": {},
   "outputs": [],
   "source": []
  },
  {
   "cell_type": "markdown",
   "id": "e4894637-0272-4c8e-be05-326865db6f9e",
   "metadata": {},
   "source": [
    "Q3. What is the partitioning of variance in ANOVA, and why is it important to understand this concept?"
   ]
  },
  {
   "cell_type": "markdown",
   "id": "d21a370a-b0ce-4fa1-8d9f-6bdb35136b80",
   "metadata": {},
   "source": [
    "Ans:\n",
    "    \n",
    "The partitioning of variance in ANOVA (Analysis of Variance) is a fundamental concept that helps in understanding how the total variability in the data is broken down into components attributable to different sources. \n",
    "\n",
    "Partitioning of Variance in ANOVA\n",
    "In ANOVA, the total variance observed in the dependent variable is partitioned into several components:\n",
    "\n",
    "Total Sum of Squares (SST):\n",
    "\n",
    "Description: Represents the total variability in the data. It is the sum of the squared differences between each observation and the overall mean.\n",
    "\n",
    "Interpretation: This quantifies the overall dispersion of the data points around the grand mean.\n",
    "\n",
    "Between-Group Sum of Squares (SSB or SSA):\n",
    "\n",
    "Description: Represents the variability due to differences between the group means. It measures how much of the total variance can be explained by the differences between the group means.\n",
    "\n",
    "Interpretation: This quantifies the variability due to the factor or independent variable being tested.\n",
    "\n",
    "Within-Group Sum of Squares (SSW or SSE):\n",
    "\n",
    "Description: Represents the variability within each group. It measures the dispersion of individual observations around their respective group means.\n",
    "\n",
    "Interpretation: This quantifies the variability due to random error or inherent variability within the groups."
   ]
  },
  {
   "cell_type": "code",
   "execution_count": null,
   "id": "a536135b-84b8-424b-88e7-1bb9c1234691",
   "metadata": {},
   "outputs": [],
   "source": []
  },
  {
   "cell_type": "markdown",
   "id": "86c92c1f-64d4-4251-a94e-d8a3dd012b3a",
   "metadata": {},
   "source": [
    "Q4. How would you calculate the total sum of squares (SST), explained sum of squares (SSE), and residual\n",
    "sum of squares (SSR) in a one-way ANOVA using Python?"
   ]
  },
  {
   "cell_type": "code",
   "execution_count": 1,
   "id": "d303b1d2-f424-4ea5-ad58-a5b45c50b315",
   "metadata": {},
   "outputs": [
    {
     "name": "stdout",
     "output_type": "stream",
     "text": [
      "Total Sum of Squares (SST): 55.733333333333334\n",
      "Explained Sum of Squares (SSE): 30.533333333333342\n",
      "Residual Sum of Squares (SSR): 25.2\n",
      "SST = SSE + SSR: False\n"
     ]
    }
   ],
   "source": [
    "import numpy as np\n",
    "import pandas as pd\n",
    "from scipy import stats\n",
    "\n",
    "# Example data: Three groups with different observations\n",
    "data = {\n",
    "    'Group': ['A']*5 + ['B']*5 + ['C']*5,\n",
    "    'Value': [2, 4, 3, 5, 6, 3, 4, 5, 6, 7, 6, 7, 8, 7, 9]\n",
    "}\n",
    "\n",
    "# Convert to a DataFrame\n",
    "df = pd.DataFrame(data)\n",
    "\n",
    "# Calculate overall mean\n",
    "overall_mean = df['Value'].mean()\n",
    "\n",
    "# Calculate total sum of squares (SST)\n",
    "sst = np.sum((df['Value'] - overall_mean) ** 2)\n",
    "\n",
    "# Calculate group means\n",
    "group_means = df.groupby('Group')['Value'].mean()\n",
    "\n",
    "# Calculate explained sum of squares (SSE)\n",
    "sse = np.sum(df.groupby('Group').size() * (group_means - overall_mean) ** 2)\n",
    "\n",
    "# Calculate residual sum of squares (SSR)\n",
    "ssr = np.sum((df['Value'] - df['Group'].map(group_means)) ** 2)\n",
    "\n",
    "print(f'Total Sum of Squares (SST): {sst}')\n",
    "print(f'Explained Sum of Squares (SSE): {sse}')\n",
    "print(f'Residual Sum of Squares (SSR): {ssr}')\n",
    "\n",
    "# Verify the sum\n",
    "print(f'SST = SSE + SSR: {sst == sse + ssr}')\n"
   ]
  },
  {
   "cell_type": "code",
   "execution_count": null,
   "id": "dfb12e65-eb41-4659-a5e5-800a1b5a18a4",
   "metadata": {},
   "outputs": [],
   "source": []
  },
  {
   "cell_type": "markdown",
   "id": "55f8f887-f149-4eab-813b-0cee3fdd0b7f",
   "metadata": {},
   "source": [
    "Q5. In a two-way ANOVA, how would you calculate the main effects and interaction effects using Python?"
   ]
  },
  {
   "cell_type": "code",
   "execution_count": 5,
   "id": "c23022e8-cf31-4d26-9f53-2533f3066917",
   "metadata": {},
   "outputs": [
    {
     "name": "stdout",
     "output_type": "stream",
     "text": [
      "Requirement already satisfied: pandas in /opt/conda/lib/python3.10/site-packages (1.5.2)\n",
      "Requirement already satisfied: statsmodels in /opt/conda/lib/python3.10/site-packages (0.13.5)\n",
      "Requirement already satisfied: python-dateutil>=2.8.1 in /opt/conda/lib/python3.10/site-packages (from pandas) (2.8.2)\n",
      "Requirement already satisfied: pytz>=2020.1 in /opt/conda/lib/python3.10/site-packages (from pandas) (2022.6)\n",
      "Requirement already satisfied: numpy>=1.21.0 in /opt/conda/lib/python3.10/site-packages (from pandas) (1.23.5)\n",
      "Requirement already satisfied: patsy>=0.5.2 in /opt/conda/lib/python3.10/site-packages (from statsmodels) (0.5.3)\n",
      "Requirement already satisfied: packaging>=21.3 in /opt/conda/lib/python3.10/site-packages (from statsmodels) (22.0)\n",
      "Requirement already satisfied: scipy>=1.3 in /opt/conda/lib/python3.10/site-packages (from statsmodels) (1.9.3)\n",
      "Requirement already satisfied: six in /opt/conda/lib/python3.10/site-packages (from patsy>=0.5.2->statsmodels) (1.16.0)\n",
      "Note: you may need to restart the kernel to use updated packages.\n"
     ]
    }
   ],
   "source": [
    "pip install pandas statsmodels"
   ]
  },
  {
   "cell_type": "code",
   "execution_count": 12,
   "id": "982b9633-c42c-4b4c-a1a9-43b838ee1f59",
   "metadata": {},
   "outputs": [
    {
     "name": "stderr",
     "output_type": "stream",
     "text": [
      "/opt/conda/lib/python3.10/site-packages/statsmodels/regression/linear_model.py:1687: RuntimeWarning: divide by zero encountered in double_scalars\n",
      "  return np.dot(wresid, wresid) / self.df_resid\n"
     ]
    },
    {
     "ename": "ValueError",
     "evalue": "array must not contain infs or NaNs",
     "output_type": "error",
     "traceback": [
      "\u001b[0;31m---------------------------------------------------------------------------\u001b[0m",
      "\u001b[0;31mValueError\u001b[0m                                Traceback (most recent call last)",
      "Cell \u001b[0;32mIn[12], line 22\u001b[0m\n\u001b[1;32m     19\u001b[0m model \u001b[38;5;241m=\u001b[39m ols(formula, data\u001b[38;5;241m=\u001b[39mdf)\u001b[38;5;241m.\u001b[39mfit()\n\u001b[1;32m     21\u001b[0m \u001b[38;5;66;03m# Perform the ANOVA\u001b[39;00m\n\u001b[0;32m---> 22\u001b[0m anova_table \u001b[38;5;241m=\u001b[39m \u001b[43msm\u001b[49m\u001b[38;5;241;43m.\u001b[39;49m\u001b[43mstats\u001b[49m\u001b[38;5;241;43m.\u001b[39;49m\u001b[43manova_lm\u001b[49m\u001b[43m(\u001b[49m\u001b[43mmodel\u001b[49m\u001b[43m,\u001b[49m\u001b[43m \u001b[49m\u001b[43mtyp\u001b[49m\u001b[38;5;241;43m=\u001b[39;49m\u001b[38;5;241;43m2\u001b[39;49m\u001b[43m)\u001b[49m\n\u001b[1;32m     24\u001b[0m \u001b[38;5;66;03m# Print the ANOVA table\u001b[39;00m\n\u001b[1;32m     25\u001b[0m \u001b[38;5;28mprint\u001b[39m(anova_table)\n",
      "File \u001b[0;32m/opt/conda/lib/python3.10/site-packages/statsmodels/stats/anova.py:349\u001b[0m, in \u001b[0;36manova_lm\u001b[0;34m(*args, **kwargs)\u001b[0m\n\u001b[1;32m    347\u001b[0m \u001b[38;5;28;01mif\u001b[39;00m \u001b[38;5;28mlen\u001b[39m(args) \u001b[38;5;241m==\u001b[39m \u001b[38;5;241m1\u001b[39m:\n\u001b[1;32m    348\u001b[0m     model \u001b[38;5;241m=\u001b[39m args[\u001b[38;5;241m0\u001b[39m]\n\u001b[0;32m--> 349\u001b[0m     \u001b[38;5;28;01mreturn\u001b[39;00m \u001b[43manova_single\u001b[49m\u001b[43m(\u001b[49m\u001b[43mmodel\u001b[49m\u001b[43m,\u001b[49m\u001b[43m \u001b[49m\u001b[38;5;241;43m*\u001b[39;49m\u001b[38;5;241;43m*\u001b[39;49m\u001b[43mkwargs\u001b[49m\u001b[43m)\u001b[49m\n\u001b[1;32m    351\u001b[0m \u001b[38;5;28;01mif\u001b[39;00m typ \u001b[38;5;129;01mnot\u001b[39;00m \u001b[38;5;129;01min\u001b[39;00m [\u001b[38;5;241m1\u001b[39m, \u001b[38;5;124m\"\u001b[39m\u001b[38;5;124mI\u001b[39m\u001b[38;5;124m\"\u001b[39m]:\n\u001b[1;32m    352\u001b[0m     \u001b[38;5;28;01mraise\u001b[39;00m \u001b[38;5;167;01mValueError\u001b[39;00m(\u001b[38;5;124m\"\u001b[39m\u001b[38;5;124mMultiple models only supported for type I. \u001b[39m\u001b[38;5;124m\"\u001b[39m\n\u001b[1;32m    353\u001b[0m                      \u001b[38;5;124m\"\u001b[39m\u001b[38;5;124mGot type \u001b[39m\u001b[38;5;132;01m%s\u001b[39;00m\u001b[38;5;124m\"\u001b[39m \u001b[38;5;241m%\u001b[39m \u001b[38;5;28mstr\u001b[39m(typ))\n",
      "File \u001b[0;32m/opt/conda/lib/python3.10/site-packages/statsmodels/stats/anova.py:80\u001b[0m, in \u001b[0;36manova_single\u001b[0;34m(model, **kwargs)\u001b[0m\n\u001b[1;32m     77\u001b[0m     \u001b[38;5;28;01mreturn\u001b[39;00m anova1_lm_single(model, endog, exog, nobs, design_info, table,\n\u001b[1;32m     78\u001b[0m                             n_rows, test, pr_test, robust)\n\u001b[1;32m     79\u001b[0m \u001b[38;5;28;01melif\u001b[39;00m typ \u001b[38;5;129;01min\u001b[39;00m [\u001b[38;5;241m2\u001b[39m, \u001b[38;5;124m\"\u001b[39m\u001b[38;5;124mII\u001b[39m\u001b[38;5;124m\"\u001b[39m]:\n\u001b[0;32m---> 80\u001b[0m     \u001b[38;5;28;01mreturn\u001b[39;00m \u001b[43manova2_lm_single\u001b[49m\u001b[43m(\u001b[49m\u001b[43mmodel\u001b[49m\u001b[43m,\u001b[49m\u001b[43m \u001b[49m\u001b[43mdesign_info\u001b[49m\u001b[43m,\u001b[49m\u001b[43m \u001b[49m\u001b[43mn_rows\u001b[49m\u001b[43m,\u001b[49m\u001b[43m \u001b[49m\u001b[43mtest\u001b[49m\u001b[43m,\u001b[49m\u001b[43m \u001b[49m\u001b[43mpr_test\u001b[49m\u001b[43m,\u001b[49m\n\u001b[1;32m     81\u001b[0m \u001b[43m                            \u001b[49m\u001b[43mrobust\u001b[49m\u001b[43m)\u001b[49m\n\u001b[1;32m     82\u001b[0m \u001b[38;5;28;01melif\u001b[39;00m typ \u001b[38;5;129;01min\u001b[39;00m [\u001b[38;5;241m3\u001b[39m, \u001b[38;5;124m\"\u001b[39m\u001b[38;5;124mIII\u001b[39m\u001b[38;5;124m\"\u001b[39m]:\n\u001b[1;32m     83\u001b[0m     \u001b[38;5;28;01mreturn\u001b[39;00m anova3_lm_single(model, design_info, n_rows, test, pr_test,\n\u001b[1;32m     84\u001b[0m                             robust)\n",
      "File \u001b[0;32m/opt/conda/lib/python3.10/site-packages/statsmodels/stats/anova.py:203\u001b[0m, in \u001b[0;36manova2_lm_single\u001b[0;34m(model, design_info, n_rows, test, pr_test, robust)\u001b[0m\n\u001b[1;32m    201\u001b[0m LVL \u001b[38;5;241m=\u001b[39m np\u001b[38;5;241m.\u001b[39mdot(np\u001b[38;5;241m.\u001b[39mdot(L1,robust_cov),L2\u001b[38;5;241m.\u001b[39mT)\n\u001b[1;32m    202\u001b[0m \u001b[38;5;28;01mfrom\u001b[39;00m \u001b[38;5;21;01mscipy\u001b[39;00m \u001b[38;5;28;01mimport\u001b[39;00m linalg\n\u001b[0;32m--> 203\u001b[0m orth_compl,_ \u001b[38;5;241m=\u001b[39m \u001b[43mlinalg\u001b[49m\u001b[38;5;241;43m.\u001b[39;49m\u001b[43mqr\u001b[49m\u001b[43m(\u001b[49m\u001b[43mLVL\u001b[49m\u001b[43m)\u001b[49m\n\u001b[1;32m    204\u001b[0m r \u001b[38;5;241m=\u001b[39m L1\u001b[38;5;241m.\u001b[39mshape[\u001b[38;5;241m0\u001b[39m] \u001b[38;5;241m-\u001b[39m L2\u001b[38;5;241m.\u001b[39mshape[\u001b[38;5;241m0\u001b[39m]\n\u001b[1;32m    205\u001b[0m \u001b[38;5;66;03m# L1|2\u001b[39;00m\n\u001b[1;32m    206\u001b[0m \u001b[38;5;66;03m# use the non-unique orthogonal completion since L12 is rank r\u001b[39;00m\n",
      "File \u001b[0;32m/opt/conda/lib/python3.10/site-packages/scipy/linalg/_decomp_qr.py:127\u001b[0m, in \u001b[0;36mqr\u001b[0;34m(a, overwrite_a, lwork, mode, pivoting, check_finite)\u001b[0m\n\u001b[1;32m    123\u001b[0m     \u001b[38;5;28;01mraise\u001b[39;00m \u001b[38;5;167;01mValueError\u001b[39;00m(\u001b[38;5;124m\"\u001b[39m\u001b[38;5;124mMode argument should be one of [\u001b[39m\u001b[38;5;124m'\u001b[39m\u001b[38;5;124mfull\u001b[39m\u001b[38;5;124m'\u001b[39m\u001b[38;5;124m, \u001b[39m\u001b[38;5;124m'\u001b[39m\u001b[38;5;124mr\u001b[39m\u001b[38;5;124m'\u001b[39m\u001b[38;5;124m,\u001b[39m\u001b[38;5;124m\"\u001b[39m\n\u001b[1;32m    124\u001b[0m                      \u001b[38;5;124m\"\u001b[39m\u001b[38;5;124m'\u001b[39m\u001b[38;5;124meconomic\u001b[39m\u001b[38;5;124m'\u001b[39m\u001b[38;5;124m, \u001b[39m\u001b[38;5;124m'\u001b[39m\u001b[38;5;124mraw\u001b[39m\u001b[38;5;124m'\u001b[39m\u001b[38;5;124m]\u001b[39m\u001b[38;5;124m\"\u001b[39m)\n\u001b[1;32m    126\u001b[0m \u001b[38;5;28;01mif\u001b[39;00m check_finite:\n\u001b[0;32m--> 127\u001b[0m     a1 \u001b[38;5;241m=\u001b[39m \u001b[43mnumpy\u001b[49m\u001b[38;5;241;43m.\u001b[39;49m\u001b[43masarray_chkfinite\u001b[49m\u001b[43m(\u001b[49m\u001b[43ma\u001b[49m\u001b[43m)\u001b[49m\n\u001b[1;32m    128\u001b[0m \u001b[38;5;28;01melse\u001b[39;00m:\n\u001b[1;32m    129\u001b[0m     a1 \u001b[38;5;241m=\u001b[39m numpy\u001b[38;5;241m.\u001b[39masarray(a)\n",
      "File \u001b[0;32m/opt/conda/lib/python3.10/site-packages/numpy/lib/function_base.py:627\u001b[0m, in \u001b[0;36masarray_chkfinite\u001b[0;34m(a, dtype, order)\u001b[0m\n\u001b[1;32m    625\u001b[0m a \u001b[38;5;241m=\u001b[39m asarray(a, dtype\u001b[38;5;241m=\u001b[39mdtype, order\u001b[38;5;241m=\u001b[39morder)\n\u001b[1;32m    626\u001b[0m \u001b[38;5;28;01mif\u001b[39;00m a\u001b[38;5;241m.\u001b[39mdtype\u001b[38;5;241m.\u001b[39mchar \u001b[38;5;129;01min\u001b[39;00m typecodes[\u001b[38;5;124m'\u001b[39m\u001b[38;5;124mAllFloat\u001b[39m\u001b[38;5;124m'\u001b[39m] \u001b[38;5;129;01mand\u001b[39;00m \u001b[38;5;129;01mnot\u001b[39;00m np\u001b[38;5;241m.\u001b[39misfinite(a)\u001b[38;5;241m.\u001b[39mall():\n\u001b[0;32m--> 627\u001b[0m     \u001b[38;5;28;01mraise\u001b[39;00m \u001b[38;5;167;01mValueError\u001b[39;00m(\n\u001b[1;32m    628\u001b[0m         \u001b[38;5;124m\"\u001b[39m\u001b[38;5;124marray must not contain infs or NaNs\u001b[39m\u001b[38;5;124m\"\u001b[39m)\n\u001b[1;32m    629\u001b[0m \u001b[38;5;28;01mreturn\u001b[39;00m a\n",
      "\u001b[0;31mValueError\u001b[0m: array must not contain infs or NaNs"
     ]
    }
   ],
   "source": [
    "\n",
    "import pandas as pd\n",
    "import statsmodels.api as sm\n",
    "from statsmodels.formula.api import ols\n",
    "\n",
    "# Example data: Two factors (FactorA and FactorB) with different levels and a dependent variable (Value)\n",
    "data = {\n",
    "    'FactorA': ['A1', 'A1', 'A1', 'A2', 'A2', 'A2', 'A3', 'A3', 'A3'],\n",
    "    'FactorB': ['B1', 'B2', 'B3', 'B1', 'B2', 'B3', 'B1', 'B2', 'B3'],\n",
    "    'Value': [20, 21, 19, 22, 23, 21, 24, 25, 23]\n",
    "}\n",
    "\n",
    "# Convert to a DataFrame\n",
    "df = pd.DataFrame(data)\n",
    "\n",
    "# Define the model formula for two-way ANOVA\n",
    "formula = 'Value ~ C(FactorA) + C(FactorB) + C(FactorA):C(FactorB)'\n",
    "\n",
    "# Fit the model using OLS (Ordinary Least Squares)\n",
    "model = ols(formula, data=df).fit()\n",
    "\n",
    "# Perform the ANOVA\n",
    "anova_table = sm.stats.anova_lm(model, typ=2)\n",
    "\n",
    "# Print the ANOVA table\n",
    "print(anova_table)\n",
    "\n",
    "                           \n"
   ]
  },
  {
   "cell_type": "code",
   "execution_count": null,
   "id": "52d1017a-764d-48cd-829b-9b8b9432607e",
   "metadata": {},
   "outputs": [],
   "source": []
  },
  {
   "cell_type": "markdown",
   "id": "9141626c-654d-466e-8b48-a105c8345d17",
   "metadata": {},
   "source": [
    "Q6. Suppose you conducted a one-way ANOVA and obtained an F-statistic of 5.23 and a p-value of 0.02.\n",
    "What can you conclude about the differences between the groups, and how would you interpret these\n",
    "results?"
   ]
  },
  {
   "cell_type": "markdown",
   "id": "3bf4aa42-d24c-4ad6-bb7d-34152049547a",
   "metadata": {},
   "source": [
    "Ans:\n",
    "\n",
    "The one-way ANOVA results with an F-statistic of 5.23 and a p-value of 0.02 lead us to conclude that there are statistically significant differences between the means of the groups being compared. This indicates that at least one group mean is different from the others, but further analysis with post-hoc tests is required to pinpoint the specific differences.\n"
   ]
  },
  {
   "cell_type": "code",
   "execution_count": null,
   "id": "bc457142-d6e1-45c3-b4e8-f67acc9080b6",
   "metadata": {},
   "outputs": [],
   "source": []
  },
  {
   "cell_type": "code",
   "execution_count": null,
   "id": "1f7eaaf7-9205-4af8-b3e6-9c5542fe03bf",
   "metadata": {},
   "outputs": [],
   "source": [
    "Q7. In a repeated measures ANOVA, how would you handle missing data, and what are the potential\n",
    "consequences of using different methods to handle missing data?"
   ]
  }
 ],
 "metadata": {
  "kernelspec": {
   "display_name": "Python 3 (ipykernel)",
   "language": "python",
   "name": "python3"
  },
  "language_info": {
   "codemirror_mode": {
    "name": "ipython",
    "version": 3
   },
   "file_extension": ".py",
   "mimetype": "text/x-python",
   "name": "python",
   "nbconvert_exporter": "python",
   "pygments_lexer": "ipython3",
   "version": "3.10.8"
  }
 },
 "nbformat": 4,
 "nbformat_minor": 5
}
